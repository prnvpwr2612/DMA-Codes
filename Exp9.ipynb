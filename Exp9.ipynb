import yfinance as yf

symbol = 'AAPL'
start_date = '2023-03-03'
end_date = '2024-03-05'

stock_data = yf.download(symbol, start = start_date, end = end_date)
stock_data['Close'].plot()

stock_data['50_MA'] = stock_data['Close'].rolling(window = 50).mean()
stock_data['200_MA'] = stock_data['Close'].rolling(window=200).mean()

stock_data[['Close','50_MA','200_MA']].plot()

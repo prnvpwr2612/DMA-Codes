{
 "cells": [
  {
   "cell_type": "code",
   "execution_count": 1,
   "metadata": {},
   "outputs": [],
   "source": [
    "from itertools import combinations, permutations"
   ]
  },
  {
   "cell_type": "code",
   "execution_count": 2,
   "metadata": {},
   "outputs": [],
   "source": [
    "data = {\n",
    "    'T1': ['M','O','N','K','E','Y'],\n",
    "    'T2': ['D','O','N','K','E','Y'],\n",
    "    'T3': ['M','A','K','E'],\n",
    "    'T4': ['M','U','C','K','Y'],\n",
    "    'T5': ['C','O','O','K','E']\n",
    "}"
   ]
  },
  {
   "cell_type": "code",
   "execution_count": 3,
   "metadata": {},
   "outputs": [],
   "source": [
    "def show_li(nam, di):\n",
    "    print(f'{nam}: Itemset\\t\\tSupport Count')\n",
    "    for i in di:\n",
    "        print(f' {i[0]}\\t\\t{i[1]}')\n",
    "    print()"
   ]
  },
  {
   "cell_type": "code",
   "execution_count": 4,
   "metadata": {},
   "outputs": [],
   "source": [
    "def support_count(items):\n",
    "    c = 0\n",
    "    for a, b in data.items():\n",
    "        c += min(map(lambda p: b.count(p), items))\n",
    "    return c"
   ]
  },
  {
   "cell_type": "code",
   "execution_count": 5,
   "metadata": {},
   "outputs": [],
   "source": [
    "def confidence_count(items):\n",
    "    count = 0\n",
    "    for a, b in data.items():\n",
    "        if items[0] in b:\n",
    "            if set(items).issubset(set(b)):\n",
    "                count += 1\n",
    "    return count"
   ]
  },
  {
   "cell_type": "code",
   "execution_count": 6,
   "metadata": {},
   "outputs": [],
   "source": [
    "def step(num, li):\n",
    "    uniq = li if num < 2 else list(set(a for b, _ in li for a in b))\n",
    "    c = [list(a) for a in combinations(uniq, num) if len(set(a)) == num]\n",
    "    c = list(map(lambda a: [a, support_count(a)], c))\n",
    "    show_li(f'C{num}', c)\n",
    "    l = list(filter(lambda a: a[1] >= min_count, c))\n",
    "    show_li(f'L{num}', l)\n",
    "    return l"
   ]
  },
  {
   "cell_type": "code",
   "execution_count": 7,
   "metadata": {},
   "outputs": [],
   "source": [
    "def rule(items):\n",
    "    print(\"Rule\\t\\tSupport Count\\tConfidence Percentage\")\n",
    "    for p in items:\n",
    "        for i in range(2, 4):\n",
    "            for a in permutations(p[0], i):\n",
    "                supp_count = support_count(a)\n",
    "                conf_count = confidence_count(a)\n",
    "                conf_per = conf_count / len(data)\n",
    "                if supp_count >= min_count and conf_per >= min_sup_per:\n",
    "                    print(f\"{a[0]} -> {a[1:]}\\t\\t{supp_count}\\t{conf_per * 100:.2f} %\")"
   ]
  },
  {
   "cell_type": "code",
   "execution_count": 8,
   "metadata": {},
   "outputs": [],
   "source": [
    "min_sup_per = int(input('Input minimum support percentage: ')) * 0.01\n",
    "min_count = int(min_sup_per * len(data))\n",
    "min_conf_per = int(input('Input minimum confidence percentage: '))\n",
    "\n",
    "# Generating initial candidate list from given data\n",
    "initial_list = list(set(value for values in data.values() for value in values))\n",
    "temp_list = initial_list\n",
    "\n",
    "# Iteratively generating larger sets of reoccuring items\n",
    "for i in range(1, 4):\n",
    "    temp_list = step(i, temp_list)"
   ]
  },
  {
   "cell_type": "code",
   "execution_count": null,
   "metadata": {},
   "outputs": [],
   "source": [
    "# Giving the association rules found\n",
    "print('Association Rules:')\n",
    "rule(temp_list)"
   ]
  }
 ],
 "metadata": {
  "kernelspec": {
   "display_name": "Python 3",
   "language": "python",
   "name": "python3"
  },
  "language_info": {
   "codemirror_mode": {
    "name": "ipython",
    "version": 3
   },
   "file_extension": ".py",
   "mimetype": "text/x-python",
   "name": "python",
   "nbconvert_exporter": "python",
   "pygments_lexer": "ipython3",
   "version": "3.12.3"
  }
 },
 "nbformat": 4,
 "nbformat_minor": 2
}

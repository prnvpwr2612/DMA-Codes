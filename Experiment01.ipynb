{
 "cells": [
  {
   "cell_type": "code",
   "execution_count": 4,
   "metadata": {},
   "outputs": [],
   "source": [
    "##Find arithmetic mean of 20, 2, 7, 1, 34 \n",
    "import numpy as np\n",
    "import statistics as stats\n",
    "import scipy as sp"
   ]
  },
  {
   "cell_type": "code",
   "execution_count": 5,
   "metadata": {},
   "outputs": [
    {
     "name": "stdout",
     "output_type": "stream",
     "text": [
      "12.8\n"
     ]
    }
   ],
   "source": [
    "A=[20,2,7,1,34]\n",
    "B=np.mean(A)\n",
    "print(B)"
   ]
  },
  {
   "cell_type": "code",
   "execution_count": 11,
   "metadata": {},
   "outputs": [
    {
     "name": "stdout",
     "output_type": "stream",
     "text": [
      "18.6\n",
      "[17.33333333  8.33333333 31.         14.         22.33333333]\n",
      "[24.  15.  16.8]\n"
     ]
    }
   ],
   "source": [
    "A=[[14,17,12,33,44],[15,6,27,8,19],[23,2,54,1,4]]\n",
    "B=np.mean(A)\n",
    "C=np.mean(A, axis=0)\n",
    "D=np.mean(A, axis=1)\n",
    "print(B)\n",
    "print(C)\n",
    "print(D)"
   ]
  },
  {
   "cell_type": "code",
   "execution_count": 9,
   "metadata": {},
   "outputs": [
    {
     "name": "stdout",
     "output_type": "stream",
     "text": [
      "9\n",
      "2\n",
      "[8 7 9]\n",
      "[2 4 3]\n",
      "[7 8 9]\n",
      "[3 3 2]\n",
      "7\n",
      "[6 3 6]\n",
      "[4 5 7]\n"
     ]
    }
   ],
   "source": [
    "A=[[3,7,5],[8,4,3],[2,4,9]]\n",
    "B=np.max(A)\n",
    "C=np.min(A)\n",
    "D=np.max(A,axis=0)\n",
    "E=np.min(A,axis=0)\n",
    "F=np.max(A,axis=1)\n",
    "G=np.min(A,axis=1)\n",
    "Range1 = np.ptp(A)\n",
    "Range2 = np.ptp(A, axis=0)\n",
    "Range3 = np.ptp(A, axis=1)\n",
    "print(B)\n",
    "print(C)\n",
    "print(D)\n",
    "print(E)\n",
    "print(F)\n",
    "print(G)\n",
    "print(Range1)\n",
    "print(Range2)\n",
    "print(Range3)"
   ]
  },
  {
   "cell_type": "code",
   "execution_count": 13,
   "metadata": {},
   "outputs": [
    {
     "name": "stdout",
     "output_type": "stream",
     "text": [
      "2.0\n"
     ]
    }
   ],
   "source": [
    "A=[1,2,3,4]\n",
    "W=[4,3,2,1]\n",
    "Answer=np.average(A,weights=W)\n",
    "print(Answer)"
   ]
  },
  {
   "cell_type": "code",
   "execution_count": 14,
   "metadata": {},
   "outputs": [
    {
     "name": "stdout",
     "output_type": "stream",
     "text": [
      "89.76923076923077\n",
      "87.0\n",
      "86\n"
     ]
    }
   ],
   "source": [
    "Speed=[99,86,87,88,111,86,103,87,94,78,77,85,86]\n",
    "Mean=np.mean(Speed)\n",
    "Median=np.median(Speed)\n",
    "Mode=stats.mode(Speed)\n",
    "print(Mean)\n",
    "print(Median)\n",
    "print(Mode)"
   ]
  },
  {
   "cell_type": "code",
   "execution_count": 21,
   "metadata": {},
   "outputs": [
    {
     "name": "stdout",
     "output_type": "stream",
     "text": [
      "4.663506066439651\n",
      "[2.81731325 4.55901411 7.89644408]\n",
      "[4.32674871 4.16016765 5.01329793 5.24148279]\n"
     ]
    }
   ],
   "source": [
    "A=np.array([[ 1,  3, 27],\n",
    "       [ 3,  4,  6],\n",
    "       [ 7,  6,  3],\n",
    "       [ 3,  6,  8]])\n",
    "from scipy.stats import gmean\n",
    "B=gmean(gmean(A))\n",
    "C=gmean(A,axis=0)\n",
    "D=gmean(A,axis=1)\n",
    "print(B)\n",
    "print(C)\n",
    "print(D)"
   ]
  },
  {
   "cell_type": "code",
   "execution_count": 22,
   "metadata": {},
   "outputs": [
    {
     "name": "stdout",
     "output_type": "stream",
     "text": [
      "2.797513321492007\n"
     ]
    }
   ],
   "source": [
    "A=[1, 3, 5, 7, 9]\n",
    "H=stats.harmonic_mean(A)\n",
    "print(H)"
   ]
  },
  {
   "cell_type": "code",
   "execution_count": 25,
   "metadata": {},
   "outputs": [
    {
     "name": "stdout",
     "output_type": "stream",
     "text": [
      "25.5\n",
      "42.5\n",
      "67.0\n",
      "80.9\n"
     ]
    }
   ],
   "source": [
    "A=[30,40,72,83,25,10,50,90,60,15,5,9,34,23,67,80,67,45]\n",
    "print(np.percentile(A,30))\n",
    "print(np.percentile(A,50))\n",
    "print(np.percentile(A,75))\n",
    "print(np.percentile(A,90))"
   ]
  },
  {
   "cell_type": "code",
   "execution_count": 26,
   "metadata": {},
   "outputs": [
    {
     "name": "stdout",
     "output_type": "stream",
     "text": [
      "15.514509338035799\n",
      "13.876599006961325\n"
     ]
    }
   ],
   "source": [
    "A=[51, 38, 79, 46, 57]\n",
    "print(stats.stdev(A))\n",
    "print(np.std(A))"
   ]
  },
  {
   "cell_type": "code",
   "execution_count": 28,
   "metadata": {},
   "outputs": [
    {
     "name": "stdout",
     "output_type": "stream",
     "text": [
      "0.5163977794943222\n",
      "0.5275043787166296\n",
      "7.5\n",
      "Not Accepted\n"
     ]
    }
   ],
   "source": [
    "W = [6.3, 7.2, 7.3, 8.1, 7.8, 6.8, 7.5, 7.8, 7.2, 7.5, 8.1, 8.2 , 8.0, 7.4, 7.6, 7.7, 7.6, 7.4, 7.5, 8.4, 7.4, 7.6, 6.2, 7.4]\n",
    "O=np.std(W)\n",
    "OW=stats.stdev(W)\n",
    "OWO=np.average(W)\n",
    "print(O)\n",
    "print(OW)\n",
    "print(OWO)\n",
    "print(\"Not Accepted\")"
   ]
  },
  {
   "cell_type": "code",
   "execution_count": 29,
   "metadata": {},
   "outputs": [
    {
     "name": "stdout",
     "output_type": "stream",
     "text": [
      "Coefficient of variation of both programs are 25.698121 and 42.706092 respectively.\n",
      "Training program A has lesser variability than variableB.\n"
     ]
    }
   ],
   "source": [
    "avg1 = 32.11\n",
    "var1 = 68.09\n",
    "sd1 = var1**0.5\n",
    "rv1 = (sd1/avg1)*100\n",
    "avg2 = 19.75\n",
    "var2 = 71.14\n",
    "sd2 = var2**0.5\n",
    "rv2 = (sd2/avg2)*100\n",
    "print(\"Coefficient of variation of both programs are %f and %f respectively.\"%(rv1,rv2))\n",
    "if (rv1<rv2):\n",
    "    print(\"Training program A has lesser variability than variableB.\")\n",
    "else:\n",
    "    print(\"Training program B has lesser variability than variableA.\")"
   ]
  }
 ],
 "metadata": {
  "kernelspec": {
   "display_name": "Python 3",
   "language": "python",
   "name": "python3"
  },
  "language_info": {
   "codemirror_mode": {
    "name": "ipython",
    "version": 3
   },
   "file_extension": ".py",
   "mimetype": "text/x-python",
   "name": "python",
   "nbconvert_exporter": "python",
   "pygments_lexer": "ipython3",
   "version": "3.12.3"
  }
 },
 "nbformat": 4,
 "nbformat_minor": 2
}

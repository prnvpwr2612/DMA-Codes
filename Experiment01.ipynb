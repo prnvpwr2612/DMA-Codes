{
 "cells": [
  {
   "cell_type": "code",
   "execution_count": 4,
   "metadata": {},
   "outputs": [],
   "source": [
    "##Find arithmetic mean of 20, 2, 7, 1, 34 \n",
    "import numpy as np\n",
    "import statistics as stats\n",
    "import scipy as sp"
   ]
  },
  {
   "cell_type": "code",
   "execution_count": 5,
   "metadata": {},
   "outputs": [
    {
     "name": "stdout",
     "output_type": "stream",
     "text": [
      "12.8\n"
     ]
    }
   ],
   "source": [
    "A=[20,2,7,1,34]\n",
    "B=np.mean(A)\n",
    "print(B)"
   ]
  },
  {
   "cell_type": "code",
   "execution_count": 7,
   "metadata": {},
   "outputs": [
    {
     "name": "stdout",
     "output_type": "stream",
     "text": [
      "18.6\n",
      "[17.33333333  8.33333333 31.         14.         22.33333333]\n",
      "[24.  15.  16.8]\n"
     ]
    }
   ],
   "source": [
    "A=[[14,17,12,33,44],[15,6,27,8,19],[23,2,54,1,4]]\n",
    "B=np.mean(A)\n",
    "C=np.mean(A, axis=0)\n",
    "D=np.mean(A, axis=1)\n",
    "print(B)\n",
    "print(C)\n",
    "print(D)"
   ]
  },
  {
   "cell_type": "code",
   "execution_count": 9,
   "metadata": {},
   "outputs": [
    {
     "name": "stdout",
     "output_type": "stream",
     "text": [
      "9\n",
      "2\n",
      "[8 7 9]\n",
      "[2 4 3]\n",
      "[7 8 9]\n",
      "[3 3 2]\n",
      "7\n",
      "[6 3 6]\n",
      "[4 5 7]\n"
     ]
    }
   ],
   "source": [
    "A=[[3,7,5],[8,4,3],[2,4,9]]\n",
    "B=np.max(A)\n",
    "C=np.min(A)\n",
    "D=np.max(A,axis=0)\n",
    "E=np.min(A,axis=0)\n",
    "F=np.max(A,axis=1)\n",
    "G=np.min(A,axis=1)\n",
    "Range1 = np.ptp(A)\n",
    "Range2 = np.ptp(A, axis=0)\n",
    "Range3 = np.ptp(A, axis=1)\n",
    "print(B)\n",
    "print(C)\n",
    "print(D)\n",
    "print(E)\n",
    "print(F)\n",
    "print(G)\n",
    "print(Range1)\n",
    "print(Range2)\n",
    "print(Range3)"
   ]
  }
 ],
 "metadata": {
  "kernelspec": {
   "display_name": "Python 3",
   "language": "python",
   "name": "python3"
  },
  "language_info": {
   "codemirror_mode": {
    "name": "ipython",
    "version": 3
   },
   "file_extension": ".py",
   "mimetype": "text/x-python",
   "name": "python",
   "nbconvert_exporter": "python",
   "pygments_lexer": "ipython3",
   "version": "3.12.3"
  }
 },
 "nbformat": 4,
 "nbformat_minor": 2
}
